{
 "cells": [
  {
   "cell_type": "markdown",
   "id": "f8dae7fd",
   "metadata": {},
   "source": [
    "# Envs"
   ]
  },
  {
   "cell_type": "code",
   "execution_count": 2,
   "id": "84279045",
   "metadata": {},
   "outputs": [],
   "source": [
    "\"\"\"\n",
    "   Redo from DWF Python Example - Analog_Transistor.py\n",
    "   Author:  Tran Le Phuong Lan\n",
    "   Date:  2025-05-21\n",
    "\n",
    "   Requires:                       \n",
    "       Python 2.7, 3\n",
    "\"\"\"\n",
    "\n",
    "from ctypes import *\n",
    "\n",
    "import math\n",
    "import time\n",
    "import sys\n",
    "import os\n",
    "from os import sep                # OS specific file path separators\n",
    "import matplotlib.pyplot as plt\n",
    "import numpy\n",
    "\n",
    "os.environ[\"KMP_DUPLICATE_LIB_OK\"]=\"TRUE\"\n",
    "\n",
    "if sys.platform.startswith(\"win\"):\n",
    "    dwf = cdll.dwf\n",
    "    constants_path = \"C:\" + sep + \"Program Files (x86)\" + sep + \"Digilent\" + sep + \"WaveFormsSDK\" + sep + \"samples\" + sep + \"py\"\n",
    "elif sys.platform.startswith(\"darwin\"): # on macOS\n",
    "    dwf = cdll.LoadLibrary(\"/Library/Frameworks/dwf.framework/dwf\")\n",
    "else: # on Linux\n",
    "    dwf = cdll.LoadLibrary(\"libdwf.so\")\n",
    "    constants_path = sep + \"usr\" + sep + \"share\" + sep + \"digilent\" + sep + \"waveforms\" + sep + \"samples\" + sep + \"py\"\n",
    "\n",
    "# Import constans\n",
    "sys.path.append(constants_path)\n",
    "import dwfconstants as constants"
   ]
  },
  {
   "cell_type": "markdown",
   "id": "6b29aa07",
   "metadata": {},
   "source": [
    "# Open the AD3"
   ]
  },
  {
   "cell_type": "code",
   "execution_count": 15,
   "id": "9c50988a",
   "metadata": {},
   "outputs": [
    {
     "name": "stdout",
     "output_type": "stream",
     "text": [
      "Version: b'3.24.2'\n",
      "Number of Devices: 1\n",
      "Opening first device\n"
     ]
    }
   ],
   "source": [
    "version = create_string_buffer(16)\n",
    "dwf.FDwfGetVersion(version)\n",
    "print(\"Version: \"+str(version.value))\n",
    "\n",
    "cdevices = c_int()\n",
    "dwf.FDwfEnum(0, byref(cdevices))\n",
    "print(\"Number of Devices: \"+str(cdevices.value))\n",
    "\n",
    "if cdevices.value == 0:\n",
    "    print(\"no device detected\")\n",
    "    quit()\n",
    "\n",
    "dwf.FDwfParamSet(constants.DwfParamOnClose, 0) # 0 = run, 1 = stop, 2 = shutdown\n",
    "\n",
    "print(\"Opening first device\")\n",
    "hdwf = c_int()\n",
    "dwf.FDwfDeviceOpen(-1, byref(hdwf))\n",
    "\n",
    "if hdwf.value == constants.hdwfNone.value:\n",
    "    print(\"failed to open device\")\n",
    "    quit()"
   ]
  },
  {
   "cell_type": "code",
   "execution_count": 16,
   "id": "b5528e5b",
   "metadata": {},
   "outputs": [
    {
     "data": {
      "text/plain": [
       "1"
      ]
     },
     "execution_count": 16,
     "metadata": {},
     "output_type": "execute_result"
    }
   ],
   "source": [
    "dwf.FDwfDeviceAutoConfigureSet(hdwf, 0) # 0 = the device will only be configured when FDwf###Configure is called"
   ]
  },
  {
   "cell_type": "markdown",
   "id": "ae481da7",
   "metadata": {},
   "source": [
    "# code from analog_transistor.py but \n",
    "\n",
    "**the physical setup is**\n",
    "\n",
    "- 1. W1 - OSC1\n",
    "\n",
    "- 2. W2 - OSC2"
   ]
  },
  {
   "cell_type": "code",
   "execution_count": 17,
   "id": "b44e4cdc",
   "metadata": {},
   "outputs": [
    {
     "name": "stdout",
     "output_type": "stream",
     "text": [
      "Configuring device...\n",
      "Wait for the offset to stabilize...\n",
      "Starting test...\n",
      "done\n"
     ]
    },
    {
     "data": {
      "text/plain": [
       "1"
      ]
     },
     "execution_count": 17,
     "metadata": {},
     "output_type": "execute_result"
    }
   ],
   "source": [
    "print(\"Configuring device...\")\n",
    "# collector: 0V to 5V triangle output and 50Hz, 20ms\n",
    "dwf.FDwfAnalogOutEnableSet(hdwf, 0, 1) \n",
    "dwf.FDwfAnalogOutFunctionSet(hdwf, 0, constants.funcTriangle)\n",
    "dwf.FDwfAnalogOutPhaseSet(hdwf, 0, c_double(270.0))\n",
    "dwf.FDwfAnalogOutFrequencySet(hdwf, 0, c_double(50))\n",
    "dwf.FDwfAnalogOutOffsetSet(hdwf, 0, c_double(2.5))\n",
    "dwf.FDwfAnalogOutAmplitudeSet(hdwf, 0, c_double(2.5))\n",
    "dwf.FDwfAnalogOutMasterSet(hdwf, 0, 1)\n",
    "dwf.FDwfAnalogOutConfigure(hdwf, 0, 0)\n",
    "\n",
    "# base: 1V to 2V in 5 steps at 10Hz, 100ms total length\n",
    "dwf.FDwfAnalogOutEnableSet(hdwf, 1, 1) \n",
    "dwf.FDwfAnalogOutFunctionSet(hdwf, 1, constants.funcCustom)\n",
    "dwf.FDwfAnalogOutFrequencySet(hdwf, 1, c_double(10))\n",
    "dwf.FDwfAnalogOutOffsetSet(hdwf, 1, c_double(1.5))\n",
    "dwf.FDwfAnalogOutAmplitudeSet(hdwf, 1, c_double(0.5))\n",
    "# values normalized to +-1 \n",
    "# ChatGPT: using Python's ctypes module to create a C-style array of 5 double values.\n",
    "rgSteps = (c_double*5)(-1.0, -0.5, 0, 0.5, 1.0) \n",
    "# The output value will be Offset + Sample*Amplitude\n",
    "# The Sample = values in rgSteps\n",
    "dwf.FDwfAnalogOutDataSet(hdwf, 1, rgSteps, len(rgSteps))\n",
    "dwf.FDwfAnalogOutRunSet(hdwf, 1, c_double(0.1))\n",
    "dwf.FDwfAnalogOutRepeatSet(hdwf, 1, 1)\n",
    "dwf.FDwfAnalogOutConfigure(hdwf, 1, 0)\n",
    "\n",
    "# scope: 5000 samples at 50kHz, 100ms\n",
    "dwf.FDwfAnalogInChannelEnableSet(hdwf, 0, 1)\n",
    "dwf.FDwfAnalogInChannelEnableSet(hdwf, 1, 1)\n",
    "dwf.FDwfAnalogInFrequencySet(hdwf, c_double(50e3))\n",
    "dwf.FDwfAnalogInChannelRangeSet(hdwf, 0, c_double(10.0))\n",
    "dwf.FDwfAnalogInChannelRangeSet(hdwf, 1, c_double(10.0))\n",
    "dwf.FDwfAnalogInBufferSizeSet(hdwf, 5000)\n",
    "dwf.FDwfAnalogInTriggerSourceSet(hdwf, constants.trigsrcAnalogOut2) \n",
    "dwf.FDwfAnalogInTriggerPositionSet(hdwf, c_double(0.05)) # 5ms, trigger at first sample\n",
    "dwf.FDwfAnalogInConfigure(hdwf, 1, 0)\n",
    "\n",
    "print(\"Wait for the offset to stabilize...\")\n",
    "time.sleep(1)\n",
    "\n",
    "print(\"Starting test...\")\n",
    "dwf.FDwfAnalogInConfigure(hdwf, 0, 1)\n",
    "dwf.FDwfAnalogOutConfigure(hdwf, 1, 1)\n",
    "\n",
    "sts = c_int()\n",
    "while True:\n",
    "    dwf.FDwfAnalogInStatus(hdwf, 1, byref(sts))\n",
    "    if sts.value == constants.DwfStateDone.value :\n",
    "        break\n",
    "    time.sleep(0.001)\n",
    "print(\"done\")\n",
    "\n",
    "rgc1 = (c_double*5000)()\n",
    "rgc2 = (c_double*5000)()\n",
    "dwf.FDwfAnalogInStatusData(hdwf, 0, rgc1, len(rgc1)) # get channel 1 data\n",
    "dwf.FDwfAnalogInStatusData(hdwf, 1, rgc2, len(rgc2)) # get channel 2 data\n"
   ]
  },
  {
   "cell_type": "code",
   "execution_count": 18,
   "id": "ee82e773",
   "metadata": {},
   "outputs": [],
   "source": [
    "import numpy as np"
   ]
  },
  {
   "cell_type": "code",
   "execution_count": 19,
   "id": "bc6ef267",
   "metadata": {},
   "outputs": [
    {
     "data": {
      "text/plain": [
       "[<matplotlib.lines.Line2D at 0x7f70ecf03910>]"
      ]
     },
     "execution_count": 19,
     "metadata": {},
     "output_type": "execute_result"
    },
    {
     "data": {
      "image/png": "[encoded data removed]",
      "text/plain": [
       "<Figure size 640x480 with 1 Axes>"
      ]
     },
     "metadata": {},
     "output_type": "display_data"
    }
   ],
   "source": [
    "plt.plot(np.arange(0, len(rgc1)), rgc1)"
   ]
  },
  {
   "cell_type": "code",
   "execution_count": 20,
   "id": "7c4b3032",
   "metadata": {},
   "outputs": [
    {
     "data": {
      "text/plain": [
       "[<matplotlib.lines.Line2D at 0x7f70ebe56790>]"
      ]
     },
     "execution_count": 20,
     "metadata": {},
     "output_type": "execute_result"
    },
    {
     "data": {
      "image/png": "[encoded data removed]",
      "text/plain": [
       "<Figure size 640x480 with 1 Axes>"
      ]
     },
     "metadata": {},
     "output_type": "display_data"
    }
   ],
   "source": [
    "plt.plot(np.arange(0, len(rgc2)), rgc2)"
   ]
  },
  {
   "cell_type": "markdown",
   "id": "4a53438c",
   "metadata": {},
   "source": [
    "# Wave Gen"
   ]
  },
  {
   "cell_type": "markdown",
   "id": "b1c44b66",
   "metadata": {},
   "source": [
    "## configure wave gen"
   ]
  },
  {
   "cell_type": "code",
   "execution_count": null,
   "id": "2d72fc5a",
   "metadata": {},
   "outputs": [],
   "source": [
    "print(\"Configuring device...\")\n",
    "\n",
    "# collector: 0V to 5V triangle output and 50Hz, 20ms\n",
    "# enable channel\n",
    "# The following setup of FDwfAnalogOutNodeEnableSet is for normal use case of generating signal (i.e without modulation) \n",
    "#                         idxChannel AnalogOutNode   fMode\n",
    "dwf.FDwfAnalogOutEnableSet(hdwf, 0, 1) \n",
    "# set function \n",
    "#                          idxChannel    AnalogOutNode func  \n",
    "dwf.FDwfAnalogOutFunctionSet(hdwf, 0, constants.funcTriangle)\n",
    "dwf.FDwfAnalogOutPhaseSet(hdwf, 0, c_double(270.0))\n",
    "dwf.FDwfAnalogOutFrequencySet(hdwf, 0, c_double(50))\n",
    "dwf.FDwfAnalogOutOffsetSet(hdwf, 0, c_double(2.5))\n",
    "dwf.FDwfAnalogOutAmplitudeSet(hdwf, 0, c_double(2.5))\n",
    "dwf.FDwfAnalogOutMasterSet(hdwf, 0, 1)\n",
    "dwf.FDwfAnalogOutConfigure(hdwf, 0, 0)\n",
    "\n",
    "# base: 1V to 2V in 5 steps at 10Hz, 100ms total length\n",
    "dwf.FDwfAnalogOutEnableSet(hdwf, 1, 1) \n",
    "dwf.FDwfAnalogOutFunctionSet(hdwf, 1, constants.funcCustom)\n",
    "dwf.FDwfAnalogOutFrequencySet(hdwf, 1, c_double(10))\n",
    "dwf.FDwfAnalogOutOffsetSet(hdwf, 1, c_double(1.5))\n",
    "dwf.FDwfAnalogOutAmplitudeSet(hdwf, 1, c_double(0.5))\n",
    "# values normalized to +-1 \n",
    "rgSteps = (c_double*5)(-1.0, -0.5, 0, 0.5, 1.0)\n",
    "dwf.FDwfAnalogOutDataSet(hdwf, 1, rgSteps, len(rgSteps))\n",
    "dwf.FDwfAnalogOutRunSet(hdwf, 1, c_double(0.1))\n",
    "dwf.FDwfAnalogOutRepeatSet(hdwf, 1, 1)\n",
    "dwf.FDwfAnalogOutConfigure(hdwf, 1, 0)"
   ]
  },
  {
   "cell_type": "markdown",
   "id": "fc0318fc",
   "metadata": {},
   "source": [
    "# Close AD3"
   ]
  },
  {
   "cell_type": "code",
   "execution_count": 14,
   "id": "39fc4cde",
   "metadata": {},
   "outputs": [
    {
     "data": {
      "text/plain": [
       "1"
      ]
     },
     "execution_count": 14,
     "metadata": {},
     "output_type": "execute_result"
    }
   ],
   "source": [
    "dwf.FDwfDeviceCloseAll()"
   ]
  },
  {
   "cell_type": "code",
   "execution_count": null,
   "id": "1bdb9465",
   "metadata": {},
   "outputs": [],
   "source": []
  }
 ],
 "metadata": {
  "kernelspec": {
   "display_name": "workspace_01",
   "language": "python",
   "name": "python3"
  },
  "language_info": {
   "codemirror_mode": {
    "name": "ipython",
    "version": 3
   },
   "file_extension": ".py",
   "mimetype": "text/x-python",
   "name": "python",
   "nbconvert_exporter": "python",
   "pygments_lexer": "ipython3",
   "version": "3.11.0"
  }
 },
 "nbformat": 4,
 "nbformat_minor": 5
}
