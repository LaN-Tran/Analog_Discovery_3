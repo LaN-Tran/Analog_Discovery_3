{
 "cells": [
  {
   "cell_type": "markdown",
   "id": "a0f19977",
   "metadata": {},
   "source": [
    "# Diode measurement"
   ]
  },
  {
   "cell_type": "markdown",
   "id": "083d1e9d",
   "metadata": {},
   "source": [
    "## Libs"
   ]
  },
  {
   "cell_type": "code",
   "execution_count": 19,
   "id": "1e5d9a0d",
   "metadata": {},
   "outputs": [],
   "source": [
    "import pandas as pd\n",
    "import matplotlib.pyplot as plt"
   ]
  },
  {
   "cell_type": "markdown",
   "id": "fae309a0",
   "metadata": {},
   "source": [
    "## Import data"
   ]
  },
  {
   "cell_type": "code",
   "execution_count": 21,
   "id": "1b486b79",
   "metadata": {},
   "outputs": [
    {
     "data": {
      "text/html": [
       "<div>\n",
       "<style scoped>\n",
       "    .dataframe tbody tr th:only-of-type {\n",
       "        vertical-align: middle;\n",
       "    }\n",
       "\n",
       "    .dataframe tbody tr th {\n",
       "        vertical-align: top;\n",
       "    }\n",
       "\n",
       "    .dataframe thead th {\n",
       "        text-align: right;\n",
       "    }\n",
       "</style>\n",
       "<table border=\"1\" class=\"dataframe\">\n",
       "  <thead>\n",
       "    <tr style=\"text-align: right;\">\n",
       "      <th></th>\n",
       "      <th>Time (s)</th>\n",
       "      <th>Channel 1 (V)</th>\n",
       "      <th>Channel 2 (V)</th>\n",
       "    </tr>\n",
       "  </thead>\n",
       "  <tbody>\n",
       "    <tr>\n",
       "      <th>0</th>\n",
       "      <td>-0.256000</td>\n",
       "      <td>0.001383</td>\n",
       "      <td>-0.135407</td>\n",
       "    </tr>\n",
       "    <tr>\n",
       "      <th>1</th>\n",
       "      <td>-0.255969</td>\n",
       "      <td>0.001461</td>\n",
       "      <td>-0.133043</td>\n",
       "    </tr>\n",
       "    <tr>\n",
       "      <th>2</th>\n",
       "      <td>-0.255937</td>\n",
       "      <td>0.001461</td>\n",
       "      <td>-0.130364</td>\n",
       "    </tr>\n",
       "    <tr>\n",
       "      <th>3</th>\n",
       "      <td>-0.255906</td>\n",
       "      <td>0.001383</td>\n",
       "      <td>-0.127842</td>\n",
       "    </tr>\n",
       "    <tr>\n",
       "      <th>4</th>\n",
       "      <td>-0.255875</td>\n",
       "      <td>0.001461</td>\n",
       "      <td>-0.125242</td>\n",
       "    </tr>\n",
       "  </tbody>\n",
       "</table>\n",
       "</div>"
      ],
      "text/plain": [
       "   Time (s)  Channel 1 (V)  Channel 2 (V)\n",
       "0 -0.256000       0.001383      -0.135407\n",
       "1 -0.255969       0.001461      -0.133043\n",
       "2 -0.255937       0.001461      -0.130364\n",
       "3 -0.255906       0.001383      -0.127842\n",
       "4 -0.255875       0.001461      -0.125242"
      ]
     },
     "execution_count": 21,
     "metadata": {},
     "output_type": "execute_result"
    }
   ],
   "source": [
    "df_sample= pd.read_csv(\"C:/Users/20245580/LabCode/AD3/data rand (x86)/sample_test_Diode.csv\")\n",
    "df_sample.head()"
   ]
  },
  {
   "cell_type": "code",
   "execution_count": 10,
   "id": "7e9620d8",
   "metadata": {},
   "outputs": [
    {
     "name": "stdout",
     "output_type": "stream",
     "text": [
      "[-0.256      -0.25596875 -0.2559375  ...  0.25590625  0.2559375\n",
      "  0.25596875]\n"
     ]
    }
   ],
   "source": [
    "time_axis = df_sample['Time (s)'].to_numpy()\n",
    "print(time_axis)"
   ]
  },
  {
   "cell_type": "code",
   "execution_count": 11,
   "id": "1fce1378",
   "metadata": {},
   "outputs": [
    {
     "name": "stdout",
     "output_type": "stream",
     "text": [
      "[1.38250993e-06 1.46115856e-06 1.46115856e-06 ... 2.48339191e-04\n",
      " 2.50541352e-04 2.52822162e-04]\n"
     ]
    }
   ],
   "source": [
    "R = 1000 # Ohm\n",
    "current_axis = df_sample['Channel 1 (V)'].to_numpy() / R\n",
    "print(current_axis)"
   ]
  },
  {
   "cell_type": "code",
   "execution_count": 12,
   "id": "c3f1ca0c",
   "metadata": {},
   "outputs": [
    {
     "name": "stdout",
     "output_type": "stream",
     "text": [
      "[-0.1354068  -0.13304281 -0.13036363 ...  0.57118775  0.57142415\n",
      "  0.57173935]\n"
     ]
    }
   ],
   "source": [
    "volt_diode_axis = df_sample['Channel 2 (V)'].to_numpy()\n",
    "print(volt_diode_axis)"
   ]
  },
  {
   "cell_type": "markdown",
   "id": "5475cffa",
   "metadata": {},
   "source": [
    "## Plot"
   ]
  },
  {
   "cell_type": "code",
   "execution_count": 15,
   "id": "4ac8b521",
   "metadata": {},
   "outputs": [
    {
     "data": {
      "text/plain": [
       "Text(0, 0.5, 'Id (mA)')"
      ]
     },
     "execution_count": 15,
     "metadata": {},
     "output_type": "execute_result"
    },
    {
     "data": {
      "image/png": "[encoded data removed]",
      "text/plain": [
       "<Figure size 800x400 with 1 Axes>"
      ]
     },
     "metadata": {},
     "output_type": "display_data"
    }
   ],
   "source": [
    "plt.figure(figsize=(8, 4))\n",
    "plt.plot(volt_diode_axis, current_axis * 1000)\n",
    "plt.xlabel('Vd V)')\n",
    "plt.ylabel('Id (mA)')"
   ]
  },
  {
   "cell_type": "code",
   "execution_count": null,
   "id": "2ec1159e",
   "metadata": {},
   "outputs": [],
   "source": []
  }
 ],
 "metadata": {
  "kernelspec": {
   "display_name": "workspace_1",
   "language": "python",
   "name": "python3"
  },
  "language_info": {
   "codemirror_mode": {
    "name": "ipython",
    "version": 3
   },
   "file_extension": ".py",
   "mimetype": "text/x-python",
   "name": "python",
   "nbconvert_exporter": "python",
   "pygments_lexer": "ipython3",
   "version": "3.12.9"
  }
 },
 "nbformat": 4,
 "nbformat_minor": 5
}
